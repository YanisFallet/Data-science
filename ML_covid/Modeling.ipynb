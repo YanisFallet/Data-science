{
 "cells": [
  {
   "cell_type": "code",
   "execution_count": 1,
   "metadata": {
    "colab": {
     "base_uri": "https://localhost:8080/",
     "height": 51
    },
    "id": "iU84VfCvIbCf",
    "outputId": "079ff2bf-6d3f-42b3-e3b6-284999f73af7"
   },
   "outputs": [],
   "source": [
    "import numpy as np\n",
    "import pandas as pd\n",
    "import matplotlib.pyplot as plt\n",
    "import seaborn as sns"
   ]
  },
  {
   "cell_type": "code",
   "execution_count": 2,
   "metadata": {
    "colab": {
     "base_uri": "https://localhost:8080/",
     "height": 386
    },
    "id": "idA3EmESIbCh",
    "outputId": "d91e7f6d-9071-457b-a733-ae4be539d524"
   },
   "outputs": [
    {
     "data": {
      "text/html": [
       "<div>\n",
       "<style scoped>\n",
       "    .dataframe tbody tr th:only-of-type {\n",
       "        vertical-align: middle;\n",
       "    }\n",
       "\n",
       "    .dataframe tbody tr th {\n",
       "        vertical-align: top;\n",
       "    }\n",
       "\n",
       "    .dataframe thead th {\n",
       "        text-align: right;\n",
       "    }\n",
       "</style>\n",
       "<table border=\"1\" class=\"dataframe\">\n",
       "  <thead>\n",
       "    <tr style=\"text-align: right;\">\n",
       "      <th></th>\n",
       "      <th>Patient age quantile</th>\n",
       "      <th>SARS-Cov-2 exam result</th>\n",
       "      <th>Patient addmited to regular ward (1=yes, 0=no)</th>\n",
       "      <th>Patient addmited to semi-intensive unit (1=yes, 0=no)</th>\n",
       "      <th>Patient addmited to intensive care unit (1=yes, 0=no)</th>\n",
       "      <th>Hematocrit</th>\n",
       "      <th>Hemoglobin</th>\n",
       "      <th>Platelets</th>\n",
       "      <th>Mean platelet volume</th>\n",
       "      <th>Red blood Cells</th>\n",
       "      <th>...</th>\n",
       "      <th>Hb saturation (arterial blood gases)</th>\n",
       "      <th>pCO2 (arterial blood gas analysis)</th>\n",
       "      <th>Base excess (arterial blood gas analysis)</th>\n",
       "      <th>pH (arterial blood gas analysis)</th>\n",
       "      <th>Total CO2 (arterial blood gas analysis)</th>\n",
       "      <th>HCO3 (arterial blood gas analysis)</th>\n",
       "      <th>pO2 (arterial blood gas analysis)</th>\n",
       "      <th>Arteiral Fio2</th>\n",
       "      <th>Phosphor</th>\n",
       "      <th>ctO2 (arterial blood gas analysis)</th>\n",
       "    </tr>\n",
       "    <tr>\n",
       "      <th>Patient ID</th>\n",
       "      <th></th>\n",
       "      <th></th>\n",
       "      <th></th>\n",
       "      <th></th>\n",
       "      <th></th>\n",
       "      <th></th>\n",
       "      <th></th>\n",
       "      <th></th>\n",
       "      <th></th>\n",
       "      <th></th>\n",
       "      <th></th>\n",
       "      <th></th>\n",
       "      <th></th>\n",
       "      <th></th>\n",
       "      <th></th>\n",
       "      <th></th>\n",
       "      <th></th>\n",
       "      <th></th>\n",
       "      <th></th>\n",
       "      <th></th>\n",
       "      <th></th>\n",
       "    </tr>\n",
       "  </thead>\n",
       "  <tbody>\n",
       "    <tr>\n",
       "      <th>44477f75e8169d2</th>\n",
       "      <td>13</td>\n",
       "      <td>negative</td>\n",
       "      <td>0</td>\n",
       "      <td>0</td>\n",
       "      <td>0</td>\n",
       "      <td>NaN</td>\n",
       "      <td>NaN</td>\n",
       "      <td>NaN</td>\n",
       "      <td>NaN</td>\n",
       "      <td>NaN</td>\n",
       "      <td>...</td>\n",
       "      <td>NaN</td>\n",
       "      <td>NaN</td>\n",
       "      <td>NaN</td>\n",
       "      <td>NaN</td>\n",
       "      <td>NaN</td>\n",
       "      <td>NaN</td>\n",
       "      <td>NaN</td>\n",
       "      <td>NaN</td>\n",
       "      <td>NaN</td>\n",
       "      <td>NaN</td>\n",
       "    </tr>\n",
       "    <tr>\n",
       "      <th>126e9dd13932f68</th>\n",
       "      <td>17</td>\n",
       "      <td>negative</td>\n",
       "      <td>0</td>\n",
       "      <td>0</td>\n",
       "      <td>0</td>\n",
       "      <td>0.236515</td>\n",
       "      <td>-0.02234</td>\n",
       "      <td>-0.517413</td>\n",
       "      <td>0.010677</td>\n",
       "      <td>0.102004</td>\n",
       "      <td>...</td>\n",
       "      <td>NaN</td>\n",
       "      <td>NaN</td>\n",
       "      <td>NaN</td>\n",
       "      <td>NaN</td>\n",
       "      <td>NaN</td>\n",
       "      <td>NaN</td>\n",
       "      <td>NaN</td>\n",
       "      <td>NaN</td>\n",
       "      <td>NaN</td>\n",
       "      <td>NaN</td>\n",
       "    </tr>\n",
       "    <tr>\n",
       "      <th>a46b4402a0e5696</th>\n",
       "      <td>8</td>\n",
       "      <td>negative</td>\n",
       "      <td>0</td>\n",
       "      <td>0</td>\n",
       "      <td>0</td>\n",
       "      <td>NaN</td>\n",
       "      <td>NaN</td>\n",
       "      <td>NaN</td>\n",
       "      <td>NaN</td>\n",
       "      <td>NaN</td>\n",
       "      <td>...</td>\n",
       "      <td>NaN</td>\n",
       "      <td>NaN</td>\n",
       "      <td>NaN</td>\n",
       "      <td>NaN</td>\n",
       "      <td>NaN</td>\n",
       "      <td>NaN</td>\n",
       "      <td>NaN</td>\n",
       "      <td>NaN</td>\n",
       "      <td>NaN</td>\n",
       "      <td>NaN</td>\n",
       "    </tr>\n",
       "    <tr>\n",
       "      <th>f7d619a94f97c45</th>\n",
       "      <td>5</td>\n",
       "      <td>negative</td>\n",
       "      <td>0</td>\n",
       "      <td>0</td>\n",
       "      <td>0</td>\n",
       "      <td>NaN</td>\n",
       "      <td>NaN</td>\n",
       "      <td>NaN</td>\n",
       "      <td>NaN</td>\n",
       "      <td>NaN</td>\n",
       "      <td>...</td>\n",
       "      <td>NaN</td>\n",
       "      <td>NaN</td>\n",
       "      <td>NaN</td>\n",
       "      <td>NaN</td>\n",
       "      <td>NaN</td>\n",
       "      <td>NaN</td>\n",
       "      <td>NaN</td>\n",
       "      <td>NaN</td>\n",
       "      <td>NaN</td>\n",
       "      <td>NaN</td>\n",
       "    </tr>\n",
       "    <tr>\n",
       "      <th>d9e41465789c2b5</th>\n",
       "      <td>15</td>\n",
       "      <td>negative</td>\n",
       "      <td>0</td>\n",
       "      <td>0</td>\n",
       "      <td>0</td>\n",
       "      <td>NaN</td>\n",
       "      <td>NaN</td>\n",
       "      <td>NaN</td>\n",
       "      <td>NaN</td>\n",
       "      <td>NaN</td>\n",
       "      <td>...</td>\n",
       "      <td>NaN</td>\n",
       "      <td>NaN</td>\n",
       "      <td>NaN</td>\n",
       "      <td>NaN</td>\n",
       "      <td>NaN</td>\n",
       "      <td>NaN</td>\n",
       "      <td>NaN</td>\n",
       "      <td>NaN</td>\n",
       "      <td>NaN</td>\n",
       "      <td>NaN</td>\n",
       "    </tr>\n",
       "  </tbody>\n",
       "</table>\n",
       "<p>5 rows × 110 columns</p>\n",
       "</div>"
      ],
      "text/plain": [
       "                 Patient age quantile SARS-Cov-2 exam result  \\\n",
       "Patient ID                                                     \n",
       "44477f75e8169d2                    13               negative   \n",
       "126e9dd13932f68                    17               negative   \n",
       "a46b4402a0e5696                     8               negative   \n",
       "f7d619a94f97c45                     5               negative   \n",
       "d9e41465789c2b5                    15               negative   \n",
       "\n",
       "                 Patient addmited to regular ward (1=yes, 0=no)  \\\n",
       "Patient ID                                                        \n",
       "44477f75e8169d2                                               0   \n",
       "126e9dd13932f68                                               0   \n",
       "a46b4402a0e5696                                               0   \n",
       "f7d619a94f97c45                                               0   \n",
       "d9e41465789c2b5                                               0   \n",
       "\n",
       "                 Patient addmited to semi-intensive unit (1=yes, 0=no)  \\\n",
       "Patient ID                                                               \n",
       "44477f75e8169d2                                                  0       \n",
       "126e9dd13932f68                                                  0       \n",
       "a46b4402a0e5696                                                  0       \n",
       "f7d619a94f97c45                                                  0       \n",
       "d9e41465789c2b5                                                  0       \n",
       "\n",
       "                 Patient addmited to intensive care unit (1=yes, 0=no)  \\\n",
       "Patient ID                                                               \n",
       "44477f75e8169d2                                                  0       \n",
       "126e9dd13932f68                                                  0       \n",
       "a46b4402a0e5696                                                  0       \n",
       "f7d619a94f97c45                                                  0       \n",
       "d9e41465789c2b5                                                  0       \n",
       "\n",
       "                 Hematocrit  Hemoglobin  Platelets  Mean platelet volume   \\\n",
       "Patient ID                                                                  \n",
       "44477f75e8169d2         NaN         NaN        NaN                    NaN   \n",
       "126e9dd13932f68    0.236515    -0.02234  -0.517413               0.010677   \n",
       "a46b4402a0e5696         NaN         NaN        NaN                    NaN   \n",
       "f7d619a94f97c45         NaN         NaN        NaN                    NaN   \n",
       "d9e41465789c2b5         NaN         NaN        NaN                    NaN   \n",
       "\n",
       "                 Red blood Cells  ...  Hb saturation (arterial blood gases)  \\\n",
       "Patient ID                        ...                                         \n",
       "44477f75e8169d2              NaN  ...                                   NaN   \n",
       "126e9dd13932f68         0.102004  ...                                   NaN   \n",
       "a46b4402a0e5696              NaN  ...                                   NaN   \n",
       "f7d619a94f97c45              NaN  ...                                   NaN   \n",
       "d9e41465789c2b5              NaN  ...                                   NaN   \n",
       "\n",
       "                 pCO2 (arterial blood gas analysis)  \\\n",
       "Patient ID                                            \n",
       "44477f75e8169d2                                 NaN   \n",
       "126e9dd13932f68                                 NaN   \n",
       "a46b4402a0e5696                                 NaN   \n",
       "f7d619a94f97c45                                 NaN   \n",
       "d9e41465789c2b5                                 NaN   \n",
       "\n",
       "                 Base excess (arterial blood gas analysis)  \\\n",
       "Patient ID                                                   \n",
       "44477f75e8169d2                                        NaN   \n",
       "126e9dd13932f68                                        NaN   \n",
       "a46b4402a0e5696                                        NaN   \n",
       "f7d619a94f97c45                                        NaN   \n",
       "d9e41465789c2b5                                        NaN   \n",
       "\n",
       "                 pH (arterial blood gas analysis)  \\\n",
       "Patient ID                                          \n",
       "44477f75e8169d2                               NaN   \n",
       "126e9dd13932f68                               NaN   \n",
       "a46b4402a0e5696                               NaN   \n",
       "f7d619a94f97c45                               NaN   \n",
       "d9e41465789c2b5                               NaN   \n",
       "\n",
       "                 Total CO2 (arterial blood gas analysis)  \\\n",
       "Patient ID                                                 \n",
       "44477f75e8169d2                                      NaN   \n",
       "126e9dd13932f68                                      NaN   \n",
       "a46b4402a0e5696                                      NaN   \n",
       "f7d619a94f97c45                                      NaN   \n",
       "d9e41465789c2b5                                      NaN   \n",
       "\n",
       "                 HCO3 (arterial blood gas analysis)  \\\n",
       "Patient ID                                            \n",
       "44477f75e8169d2                                 NaN   \n",
       "126e9dd13932f68                                 NaN   \n",
       "a46b4402a0e5696                                 NaN   \n",
       "f7d619a94f97c45                                 NaN   \n",
       "d9e41465789c2b5                                 NaN   \n",
       "\n",
       "                 pO2 (arterial blood gas analysis)  Arteiral Fio2  Phosphor  \\\n",
       "Patient ID                                                                    \n",
       "44477f75e8169d2                                NaN            NaN       NaN   \n",
       "126e9dd13932f68                                NaN            NaN       NaN   \n",
       "a46b4402a0e5696                                NaN            NaN       NaN   \n",
       "f7d619a94f97c45                                NaN            NaN       NaN   \n",
       "d9e41465789c2b5                                NaN            NaN       NaN   \n",
       "\n",
       "                 ctO2 (arterial blood gas analysis)  \n",
       "Patient ID                                           \n",
       "44477f75e8169d2                                 NaN  \n",
       "126e9dd13932f68                                 NaN  \n",
       "a46b4402a0e5696                                 NaN  \n",
       "f7d619a94f97c45                                 NaN  \n",
       "d9e41465789c2b5                                 NaN  \n",
       "\n",
       "[5 rows x 110 columns]"
      ]
     },
     "execution_count": 2,
     "metadata": {},
     "output_type": "execute_result"
    }
   ],
   "source": [
    "data=pd.read_excel('dataset.xlsx', index_col='Patient ID')\n",
    "data.head()"
   ]
  },
  {
   "cell_type": "markdown",
   "metadata": {
    "id": "NsKuZMIRIbCi"
   },
   "source": [
    "# PRE-PROCESSING"
   ]
  },
  {
   "cell_type": "code",
   "execution_count": 3,
   "metadata": {
    "colab": {
     "base_uri": "https://localhost:8080/",
     "height": 386
    },
    "id": "s0yPFtaNIbCj",
    "outputId": "a5d2e032-4ba8-4b4f-8e74-e3e7055d024a"
   },
   "outputs": [
    {
     "data": {
      "text/html": [
       "<div>\n",
       "<style scoped>\n",
       "    .dataframe tbody tr th:only-of-type {\n",
       "        vertical-align: middle;\n",
       "    }\n",
       "\n",
       "    .dataframe tbody tr th {\n",
       "        vertical-align: top;\n",
       "    }\n",
       "\n",
       "    .dataframe thead th {\n",
       "        text-align: right;\n",
       "    }\n",
       "</style>\n",
       "<table border=\"1\" class=\"dataframe\">\n",
       "  <thead>\n",
       "    <tr style=\"text-align: right;\">\n",
       "      <th></th>\n",
       "      <th>Patient age quantile</th>\n",
       "      <th>SARS-Cov-2 exam result</th>\n",
       "      <th>Patient addmited to regular ward (1=yes, 0=no)</th>\n",
       "      <th>Patient addmited to semi-intensive unit (1=yes, 0=no)</th>\n",
       "      <th>Patient addmited to intensive care unit (1=yes, 0=no)</th>\n",
       "      <th>Hematocrit</th>\n",
       "      <th>Hemoglobin</th>\n",
       "      <th>Platelets</th>\n",
       "      <th>Mean platelet volume</th>\n",
       "      <th>Red blood Cells</th>\n",
       "      <th>...</th>\n",
       "      <th>Hb saturation (arterial blood gases)</th>\n",
       "      <th>pCO2 (arterial blood gas analysis)</th>\n",
       "      <th>Base excess (arterial blood gas analysis)</th>\n",
       "      <th>pH (arterial blood gas analysis)</th>\n",
       "      <th>Total CO2 (arterial blood gas analysis)</th>\n",
       "      <th>HCO3 (arterial blood gas analysis)</th>\n",
       "      <th>pO2 (arterial blood gas analysis)</th>\n",
       "      <th>Arteiral Fio2</th>\n",
       "      <th>Phosphor</th>\n",
       "      <th>ctO2 (arterial blood gas analysis)</th>\n",
       "    </tr>\n",
       "    <tr>\n",
       "      <th>Patient ID</th>\n",
       "      <th></th>\n",
       "      <th></th>\n",
       "      <th></th>\n",
       "      <th></th>\n",
       "      <th></th>\n",
       "      <th></th>\n",
       "      <th></th>\n",
       "      <th></th>\n",
       "      <th></th>\n",
       "      <th></th>\n",
       "      <th></th>\n",
       "      <th></th>\n",
       "      <th></th>\n",
       "      <th></th>\n",
       "      <th></th>\n",
       "      <th></th>\n",
       "      <th></th>\n",
       "      <th></th>\n",
       "      <th></th>\n",
       "      <th></th>\n",
       "      <th></th>\n",
       "    </tr>\n",
       "  </thead>\n",
       "  <tbody>\n",
       "    <tr>\n",
       "      <th>44477f75e8169d2</th>\n",
       "      <td>13</td>\n",
       "      <td>negative</td>\n",
       "      <td>0</td>\n",
       "      <td>0</td>\n",
       "      <td>0</td>\n",
       "      <td>NaN</td>\n",
       "      <td>NaN</td>\n",
       "      <td>NaN</td>\n",
       "      <td>NaN</td>\n",
       "      <td>NaN</td>\n",
       "      <td>...</td>\n",
       "      <td>NaN</td>\n",
       "      <td>NaN</td>\n",
       "      <td>NaN</td>\n",
       "      <td>NaN</td>\n",
       "      <td>NaN</td>\n",
       "      <td>NaN</td>\n",
       "      <td>NaN</td>\n",
       "      <td>NaN</td>\n",
       "      <td>NaN</td>\n",
       "      <td>NaN</td>\n",
       "    </tr>\n",
       "    <tr>\n",
       "      <th>126e9dd13932f68</th>\n",
       "      <td>17</td>\n",
       "      <td>negative</td>\n",
       "      <td>0</td>\n",
       "      <td>0</td>\n",
       "      <td>0</td>\n",
       "      <td>0.236515</td>\n",
       "      <td>-0.02234</td>\n",
       "      <td>-0.517413</td>\n",
       "      <td>0.010677</td>\n",
       "      <td>0.102004</td>\n",
       "      <td>...</td>\n",
       "      <td>NaN</td>\n",
       "      <td>NaN</td>\n",
       "      <td>NaN</td>\n",
       "      <td>NaN</td>\n",
       "      <td>NaN</td>\n",
       "      <td>NaN</td>\n",
       "      <td>NaN</td>\n",
       "      <td>NaN</td>\n",
       "      <td>NaN</td>\n",
       "      <td>NaN</td>\n",
       "    </tr>\n",
       "    <tr>\n",
       "      <th>a46b4402a0e5696</th>\n",
       "      <td>8</td>\n",
       "      <td>negative</td>\n",
       "      <td>0</td>\n",
       "      <td>0</td>\n",
       "      <td>0</td>\n",
       "      <td>NaN</td>\n",
       "      <td>NaN</td>\n",
       "      <td>NaN</td>\n",
       "      <td>NaN</td>\n",
       "      <td>NaN</td>\n",
       "      <td>...</td>\n",
       "      <td>NaN</td>\n",
       "      <td>NaN</td>\n",
       "      <td>NaN</td>\n",
       "      <td>NaN</td>\n",
       "      <td>NaN</td>\n",
       "      <td>NaN</td>\n",
       "      <td>NaN</td>\n",
       "      <td>NaN</td>\n",
       "      <td>NaN</td>\n",
       "      <td>NaN</td>\n",
       "    </tr>\n",
       "    <tr>\n",
       "      <th>f7d619a94f97c45</th>\n",
       "      <td>5</td>\n",
       "      <td>negative</td>\n",
       "      <td>0</td>\n",
       "      <td>0</td>\n",
       "      <td>0</td>\n",
       "      <td>NaN</td>\n",
       "      <td>NaN</td>\n",
       "      <td>NaN</td>\n",
       "      <td>NaN</td>\n",
       "      <td>NaN</td>\n",
       "      <td>...</td>\n",
       "      <td>NaN</td>\n",
       "      <td>NaN</td>\n",
       "      <td>NaN</td>\n",
       "      <td>NaN</td>\n",
       "      <td>NaN</td>\n",
       "      <td>NaN</td>\n",
       "      <td>NaN</td>\n",
       "      <td>NaN</td>\n",
       "      <td>NaN</td>\n",
       "      <td>NaN</td>\n",
       "    </tr>\n",
       "    <tr>\n",
       "      <th>d9e41465789c2b5</th>\n",
       "      <td>15</td>\n",
       "      <td>negative</td>\n",
       "      <td>0</td>\n",
       "      <td>0</td>\n",
       "      <td>0</td>\n",
       "      <td>NaN</td>\n",
       "      <td>NaN</td>\n",
       "      <td>NaN</td>\n",
       "      <td>NaN</td>\n",
       "      <td>NaN</td>\n",
       "      <td>...</td>\n",
       "      <td>NaN</td>\n",
       "      <td>NaN</td>\n",
       "      <td>NaN</td>\n",
       "      <td>NaN</td>\n",
       "      <td>NaN</td>\n",
       "      <td>NaN</td>\n",
       "      <td>NaN</td>\n",
       "      <td>NaN</td>\n",
       "      <td>NaN</td>\n",
       "      <td>NaN</td>\n",
       "    </tr>\n",
       "  </tbody>\n",
       "</table>\n",
       "<p>5 rows × 110 columns</p>\n",
       "</div>"
      ],
      "text/plain": [
       "                 Patient age quantile SARS-Cov-2 exam result  \\\n",
       "Patient ID                                                     \n",
       "44477f75e8169d2                    13               negative   \n",
       "126e9dd13932f68                    17               negative   \n",
       "a46b4402a0e5696                     8               negative   \n",
       "f7d619a94f97c45                     5               negative   \n",
       "d9e41465789c2b5                    15               negative   \n",
       "\n",
       "                 Patient addmited to regular ward (1=yes, 0=no)  \\\n",
       "Patient ID                                                        \n",
       "44477f75e8169d2                                               0   \n",
       "126e9dd13932f68                                               0   \n",
       "a46b4402a0e5696                                               0   \n",
       "f7d619a94f97c45                                               0   \n",
       "d9e41465789c2b5                                               0   \n",
       "\n",
       "                 Patient addmited to semi-intensive unit (1=yes, 0=no)  \\\n",
       "Patient ID                                                               \n",
       "44477f75e8169d2                                                  0       \n",
       "126e9dd13932f68                                                  0       \n",
       "a46b4402a0e5696                                                  0       \n",
       "f7d619a94f97c45                                                  0       \n",
       "d9e41465789c2b5                                                  0       \n",
       "\n",
       "                 Patient addmited to intensive care unit (1=yes, 0=no)  \\\n",
       "Patient ID                                                               \n",
       "44477f75e8169d2                                                  0       \n",
       "126e9dd13932f68                                                  0       \n",
       "a46b4402a0e5696                                                  0       \n",
       "f7d619a94f97c45                                                  0       \n",
       "d9e41465789c2b5                                                  0       \n",
       "\n",
       "                 Hematocrit  Hemoglobin  Platelets  Mean platelet volume   \\\n",
       "Patient ID                                                                  \n",
       "44477f75e8169d2         NaN         NaN        NaN                    NaN   \n",
       "126e9dd13932f68    0.236515    -0.02234  -0.517413               0.010677   \n",
       "a46b4402a0e5696         NaN         NaN        NaN                    NaN   \n",
       "f7d619a94f97c45         NaN         NaN        NaN                    NaN   \n",
       "d9e41465789c2b5         NaN         NaN        NaN                    NaN   \n",
       "\n",
       "                 Red blood Cells  ...  Hb saturation (arterial blood gases)  \\\n",
       "Patient ID                        ...                                         \n",
       "44477f75e8169d2              NaN  ...                                   NaN   \n",
       "126e9dd13932f68         0.102004  ...                                   NaN   \n",
       "a46b4402a0e5696              NaN  ...                                   NaN   \n",
       "f7d619a94f97c45              NaN  ...                                   NaN   \n",
       "d9e41465789c2b5              NaN  ...                                   NaN   \n",
       "\n",
       "                 pCO2 (arterial blood gas analysis)  \\\n",
       "Patient ID                                            \n",
       "44477f75e8169d2                                 NaN   \n",
       "126e9dd13932f68                                 NaN   \n",
       "a46b4402a0e5696                                 NaN   \n",
       "f7d619a94f97c45                                 NaN   \n",
       "d9e41465789c2b5                                 NaN   \n",
       "\n",
       "                 Base excess (arterial blood gas analysis)  \\\n",
       "Patient ID                                                   \n",
       "44477f75e8169d2                                        NaN   \n",
       "126e9dd13932f68                                        NaN   \n",
       "a46b4402a0e5696                                        NaN   \n",
       "f7d619a94f97c45                                        NaN   \n",
       "d9e41465789c2b5                                        NaN   \n",
       "\n",
       "                 pH (arterial blood gas analysis)  \\\n",
       "Patient ID                                          \n",
       "44477f75e8169d2                               NaN   \n",
       "126e9dd13932f68                               NaN   \n",
       "a46b4402a0e5696                               NaN   \n",
       "f7d619a94f97c45                               NaN   \n",
       "d9e41465789c2b5                               NaN   \n",
       "\n",
       "                 Total CO2 (arterial blood gas analysis)  \\\n",
       "Patient ID                                                 \n",
       "44477f75e8169d2                                      NaN   \n",
       "126e9dd13932f68                                      NaN   \n",
       "a46b4402a0e5696                                      NaN   \n",
       "f7d619a94f97c45                                      NaN   \n",
       "d9e41465789c2b5                                      NaN   \n",
       "\n",
       "                 HCO3 (arterial blood gas analysis)  \\\n",
       "Patient ID                                            \n",
       "44477f75e8169d2                                 NaN   \n",
       "126e9dd13932f68                                 NaN   \n",
       "a46b4402a0e5696                                 NaN   \n",
       "f7d619a94f97c45                                 NaN   \n",
       "d9e41465789c2b5                                 NaN   \n",
       "\n",
       "                 pO2 (arterial blood gas analysis)  Arteiral Fio2  Phosphor  \\\n",
       "Patient ID                                                                    \n",
       "44477f75e8169d2                                NaN            NaN       NaN   \n",
       "126e9dd13932f68                                NaN            NaN       NaN   \n",
       "a46b4402a0e5696                                NaN            NaN       NaN   \n",
       "f7d619a94f97c45                                NaN            NaN       NaN   \n",
       "d9e41465789c2b5                                NaN            NaN       NaN   \n",
       "\n",
       "                 ctO2 (arterial blood gas analysis)  \n",
       "Patient ID                                           \n",
       "44477f75e8169d2                                 NaN  \n",
       "126e9dd13932f68                                 NaN  \n",
       "a46b4402a0e5696                                 NaN  \n",
       "f7d619a94f97c45                                 NaN  \n",
       "d9e41465789c2b5                                 NaN  \n",
       "\n",
       "[5 rows x 110 columns]"
      ]
     },
     "execution_count": 3,
     "metadata": {},
     "output_type": "execute_result"
    }
   ],
   "source": [
    "df = data.copy()\n",
    "df.head()"
   ]
  },
  {
   "cell_type": "markdown",
   "metadata": {
    "id": "wQhHMFpnIbCl"
   },
   "source": [
    "## Création des sous-ensembles (suite au EDA)"
   ]
  },
  {
   "cell_type": "code",
   "execution_count": 4,
   "metadata": {
    "id": "8G1piKjXIbCl"
   },
   "outputs": [],
   "source": [
    "missing_rate = df.isna().sum()/df.shape[0]"
   ]
  },
  {
   "cell_type": "code",
   "execution_count": 5,
   "metadata": {
    "id": "6kV9CmIGIbCn"
   },
   "outputs": [],
   "source": [
    "blood_columns = list(df.columns[(missing_rate < 0.9) & (missing_rate >0.88)])\n",
    "viral_columns = list(df.columns[(missing_rate < 0.80) & (missing_rate > 0.75)])"
   ]
  },
  {
   "cell_type": "code",
   "execution_count": 6,
   "metadata": {
    "id": "Bh9hD72bIbCp"
   },
   "outputs": [],
   "source": [
    "key_columns = ['Patient age quantile', 'SARS-Cov-2 exam result']"
   ]
  },
  {
   "cell_type": "code",
   "execution_count": 7,
   "metadata": {
    "colab": {
     "base_uri": "https://localhost:8080/",
     "height": 306
    },
    "id": "Eiy9tLeLIbCr",
    "outputId": "0fbc44dd-105b-4397-94f1-8e72d8ea8967"
   },
   "outputs": [
    {
     "data": {
      "text/html": [
       "<div>\n",
       "<style scoped>\n",
       "    .dataframe tbody tr th:only-of-type {\n",
       "        vertical-align: middle;\n",
       "    }\n",
       "\n",
       "    .dataframe tbody tr th {\n",
       "        vertical-align: top;\n",
       "    }\n",
       "\n",
       "    .dataframe thead th {\n",
       "        text-align: right;\n",
       "    }\n",
       "</style>\n",
       "<table border=\"1\" class=\"dataframe\">\n",
       "  <thead>\n",
       "    <tr style=\"text-align: right;\">\n",
       "      <th></th>\n",
       "      <th>Patient age quantile</th>\n",
       "      <th>SARS-Cov-2 exam result</th>\n",
       "      <th>Hematocrit</th>\n",
       "      <th>Hemoglobin</th>\n",
       "      <th>Platelets</th>\n",
       "      <th>Mean platelet volume</th>\n",
       "      <th>Red blood Cells</th>\n",
       "      <th>Lymphocytes</th>\n",
       "      <th>Mean corpuscular hemoglobin concentration (MCHC)</th>\n",
       "      <th>Leukocytes</th>\n",
       "      <th>...</th>\n",
       "      <th>Parainfluenza 3</th>\n",
       "      <th>Chlamydophila pneumoniae</th>\n",
       "      <th>Adenovirus</th>\n",
       "      <th>Parainfluenza 4</th>\n",
       "      <th>Coronavirus229E</th>\n",
       "      <th>CoronavirusOC43</th>\n",
       "      <th>Inf A H1N1 2009</th>\n",
       "      <th>Bordetella pertussis</th>\n",
       "      <th>Metapneumovirus</th>\n",
       "      <th>Parainfluenza 2</th>\n",
       "    </tr>\n",
       "    <tr>\n",
       "      <th>Patient ID</th>\n",
       "      <th></th>\n",
       "      <th></th>\n",
       "      <th></th>\n",
       "      <th></th>\n",
       "      <th></th>\n",
       "      <th></th>\n",
       "      <th></th>\n",
       "      <th></th>\n",
       "      <th></th>\n",
       "      <th></th>\n",
       "      <th></th>\n",
       "      <th></th>\n",
       "      <th></th>\n",
       "      <th></th>\n",
       "      <th></th>\n",
       "      <th></th>\n",
       "      <th></th>\n",
       "      <th></th>\n",
       "      <th></th>\n",
       "      <th></th>\n",
       "      <th></th>\n",
       "    </tr>\n",
       "  </thead>\n",
       "  <tbody>\n",
       "    <tr>\n",
       "      <th>44477f75e8169d2</th>\n",
       "      <td>13</td>\n",
       "      <td>negative</td>\n",
       "      <td>NaN</td>\n",
       "      <td>NaN</td>\n",
       "      <td>NaN</td>\n",
       "      <td>NaN</td>\n",
       "      <td>NaN</td>\n",
       "      <td>NaN</td>\n",
       "      <td>NaN</td>\n",
       "      <td>NaN</td>\n",
       "      <td>...</td>\n",
       "      <td>NaN</td>\n",
       "      <td>NaN</td>\n",
       "      <td>NaN</td>\n",
       "      <td>NaN</td>\n",
       "      <td>NaN</td>\n",
       "      <td>NaN</td>\n",
       "      <td>NaN</td>\n",
       "      <td>NaN</td>\n",
       "      <td>NaN</td>\n",
       "      <td>NaN</td>\n",
       "    </tr>\n",
       "    <tr>\n",
       "      <th>126e9dd13932f68</th>\n",
       "      <td>17</td>\n",
       "      <td>negative</td>\n",
       "      <td>0.236515</td>\n",
       "      <td>-0.02234</td>\n",
       "      <td>-0.517413</td>\n",
       "      <td>0.010677</td>\n",
       "      <td>0.102004</td>\n",
       "      <td>0.318366</td>\n",
       "      <td>-0.95079</td>\n",
       "      <td>-0.09461</td>\n",
       "      <td>...</td>\n",
       "      <td>not_detected</td>\n",
       "      <td>not_detected</td>\n",
       "      <td>not_detected</td>\n",
       "      <td>not_detected</td>\n",
       "      <td>not_detected</td>\n",
       "      <td>not_detected</td>\n",
       "      <td>not_detected</td>\n",
       "      <td>not_detected</td>\n",
       "      <td>not_detected</td>\n",
       "      <td>not_detected</td>\n",
       "    </tr>\n",
       "    <tr>\n",
       "      <th>a46b4402a0e5696</th>\n",
       "      <td>8</td>\n",
       "      <td>negative</td>\n",
       "      <td>NaN</td>\n",
       "      <td>NaN</td>\n",
       "      <td>NaN</td>\n",
       "      <td>NaN</td>\n",
       "      <td>NaN</td>\n",
       "      <td>NaN</td>\n",
       "      <td>NaN</td>\n",
       "      <td>NaN</td>\n",
       "      <td>...</td>\n",
       "      <td>NaN</td>\n",
       "      <td>NaN</td>\n",
       "      <td>NaN</td>\n",
       "      <td>NaN</td>\n",
       "      <td>NaN</td>\n",
       "      <td>NaN</td>\n",
       "      <td>NaN</td>\n",
       "      <td>NaN</td>\n",
       "      <td>NaN</td>\n",
       "      <td>NaN</td>\n",
       "    </tr>\n",
       "    <tr>\n",
       "      <th>f7d619a94f97c45</th>\n",
       "      <td>5</td>\n",
       "      <td>negative</td>\n",
       "      <td>NaN</td>\n",
       "      <td>NaN</td>\n",
       "      <td>NaN</td>\n",
       "      <td>NaN</td>\n",
       "      <td>NaN</td>\n",
       "      <td>NaN</td>\n",
       "      <td>NaN</td>\n",
       "      <td>NaN</td>\n",
       "      <td>...</td>\n",
       "      <td>NaN</td>\n",
       "      <td>NaN</td>\n",
       "      <td>NaN</td>\n",
       "      <td>NaN</td>\n",
       "      <td>NaN</td>\n",
       "      <td>NaN</td>\n",
       "      <td>NaN</td>\n",
       "      <td>NaN</td>\n",
       "      <td>NaN</td>\n",
       "      <td>NaN</td>\n",
       "    </tr>\n",
       "    <tr>\n",
       "      <th>d9e41465789c2b5</th>\n",
       "      <td>15</td>\n",
       "      <td>negative</td>\n",
       "      <td>NaN</td>\n",
       "      <td>NaN</td>\n",
       "      <td>NaN</td>\n",
       "      <td>NaN</td>\n",
       "      <td>NaN</td>\n",
       "      <td>NaN</td>\n",
       "      <td>NaN</td>\n",
       "      <td>NaN</td>\n",
       "      <td>...</td>\n",
       "      <td>not_detected</td>\n",
       "      <td>not_detected</td>\n",
       "      <td>not_detected</td>\n",
       "      <td>not_detected</td>\n",
       "      <td>not_detected</td>\n",
       "      <td>not_detected</td>\n",
       "      <td>not_detected</td>\n",
       "      <td>not_detected</td>\n",
       "      <td>not_detected</td>\n",
       "      <td>not_detected</td>\n",
       "    </tr>\n",
       "  </tbody>\n",
       "</table>\n",
       "<p>5 rows × 33 columns</p>\n",
       "</div>"
      ],
      "text/plain": [
       "                 Patient age quantile SARS-Cov-2 exam result  Hematocrit  \\\n",
       "Patient ID                                                                 \n",
       "44477f75e8169d2                    13               negative         NaN   \n",
       "126e9dd13932f68                    17               negative    0.236515   \n",
       "a46b4402a0e5696                     8               negative         NaN   \n",
       "f7d619a94f97c45                     5               negative         NaN   \n",
       "d9e41465789c2b5                    15               negative         NaN   \n",
       "\n",
       "                 Hemoglobin  Platelets  Mean platelet volume   \\\n",
       "Patient ID                                                      \n",
       "44477f75e8169d2         NaN        NaN                    NaN   \n",
       "126e9dd13932f68    -0.02234  -0.517413               0.010677   \n",
       "a46b4402a0e5696         NaN        NaN                    NaN   \n",
       "f7d619a94f97c45         NaN        NaN                    NaN   \n",
       "d9e41465789c2b5         NaN        NaN                    NaN   \n",
       "\n",
       "                 Red blood Cells  Lymphocytes  \\\n",
       "Patient ID                                      \n",
       "44477f75e8169d2              NaN          NaN   \n",
       "126e9dd13932f68         0.102004     0.318366   \n",
       "a46b4402a0e5696              NaN          NaN   \n",
       "f7d619a94f97c45              NaN          NaN   \n",
       "d9e41465789c2b5              NaN          NaN   \n",
       "\n",
       "                 Mean corpuscular hemoglobin concentration (MCHC)  Leukocytes  \\\n",
       "Patient ID                                                                      \n",
       "44477f75e8169d2                                               NaN         NaN   \n",
       "126e9dd13932f68                                          -0.95079    -0.09461   \n",
       "a46b4402a0e5696                                               NaN         NaN   \n",
       "f7d619a94f97c45                                               NaN         NaN   \n",
       "d9e41465789c2b5                                               NaN         NaN   \n",
       "\n",
       "                 ...  Parainfluenza 3  Chlamydophila pneumoniae    Adenovirus  \\\n",
       "Patient ID       ...                                                            \n",
       "44477f75e8169d2  ...              NaN                       NaN           NaN   \n",
       "126e9dd13932f68  ...     not_detected              not_detected  not_detected   \n",
       "a46b4402a0e5696  ...              NaN                       NaN           NaN   \n",
       "f7d619a94f97c45  ...              NaN                       NaN           NaN   \n",
       "d9e41465789c2b5  ...     not_detected              not_detected  not_detected   \n",
       "\n",
       "                 Parainfluenza 4  Coronavirus229E  CoronavirusOC43  \\\n",
       "Patient ID                                                           \n",
       "44477f75e8169d2              NaN              NaN              NaN   \n",
       "126e9dd13932f68     not_detected     not_detected     not_detected   \n",
       "a46b4402a0e5696              NaN              NaN              NaN   \n",
       "f7d619a94f97c45              NaN              NaN              NaN   \n",
       "d9e41465789c2b5     not_detected     not_detected     not_detected   \n",
       "\n",
       "                Inf A H1N1 2009 Bordetella pertussis Metapneumovirus  \\\n",
       "Patient ID                                                             \n",
       "44477f75e8169d2             NaN                  NaN             NaN   \n",
       "126e9dd13932f68    not_detected         not_detected    not_detected   \n",
       "a46b4402a0e5696             NaN                  NaN             NaN   \n",
       "f7d619a94f97c45             NaN                  NaN             NaN   \n",
       "d9e41465789c2b5    not_detected         not_detected    not_detected   \n",
       "\n",
       "                Parainfluenza 2  \n",
       "Patient ID                       \n",
       "44477f75e8169d2             NaN  \n",
       "126e9dd13932f68    not_detected  \n",
       "a46b4402a0e5696             NaN  \n",
       "f7d619a94f97c45             NaN  \n",
       "d9e41465789c2b5    not_detected  \n",
       "\n",
       "[5 rows x 33 columns]"
      ]
     },
     "execution_count": 7,
     "metadata": {},
     "output_type": "execute_result"
    }
   ],
   "source": [
    "df = df[key_columns + blood_columns + viral_columns]\n",
    "df.head()"
   ]
  },
  {
   "cell_type": "markdown",
   "metadata": {
    "id": "vLL2wMjXIbCt"
   },
   "source": [
    "## TrainTest - Nettoyage - Encodage"
   ]
  },
  {
   "cell_type": "code",
   "execution_count": 8,
   "metadata": {
    "id": "gr0yL_tNIbCt"
   },
   "outputs": [],
   "source": [
    "from sklearn.model_selection import train_test_split"
   ]
  },
  {
   "cell_type": "code",
   "execution_count": 9,
   "metadata": {
    "id": "oDcImqzIIbCv"
   },
   "outputs": [],
   "source": [
    "trainset, testset = train_test_split(df, test_size=0.2, random_state=0)"
   ]
  },
  {
   "cell_type": "code",
   "execution_count": 10,
   "metadata": {
    "colab": {
     "base_uri": "https://localhost:8080/",
     "height": 68
    },
    "id": "la2nNYZnIbCw",
    "outputId": "d5b62317-d261-4ade-e3a6-8c4b8e85ed68"
   },
   "outputs": [
    {
     "data": {
      "text/plain": [
       "negative    4068\n",
       "positive     447\n",
       "Name: SARS-Cov-2 exam result, dtype: int64"
      ]
     },
     "execution_count": 10,
     "metadata": {},
     "output_type": "execute_result"
    }
   ],
   "source": [
    "trainset['SARS-Cov-2 exam result'].value_counts()"
   ]
  },
  {
   "cell_type": "code",
   "execution_count": 11,
   "metadata": {
    "colab": {
     "base_uri": "https://localhost:8080/",
     "height": 68
    },
    "id": "_k9wwJPSIbCy",
    "outputId": "a81d5ac5-6e51-43e1-a7b1-3505cc90c0c5"
   },
   "outputs": [
    {
     "data": {
      "text/plain": [
       "negative    1018\n",
       "positive     111\n",
       "Name: SARS-Cov-2 exam result, dtype: int64"
      ]
     },
     "execution_count": 11,
     "metadata": {},
     "output_type": "execute_result"
    }
   ],
   "source": [
    "testset['SARS-Cov-2 exam result'].value_counts()"
   ]
  },
  {
   "cell_type": "code",
   "execution_count": 12,
   "metadata": {
    "id": "lw5qiCAMIbC0"
   },
   "outputs": [],
   "source": [
    "def encodage(df):\n",
    "    code = {'negative':0,\n",
    "            'positive':1,\n",
    "            'not_detected':0,\n",
    "            'detected':1}\n",
    "    \n",
    "    for col in df.select_dtypes('object').columns:\n",
    "        df.loc[:,col] = df[col].map(code)\n",
    "        \n",
    "    return df"
   ]
  },
  {
   "cell_type": "code",
   "execution_count": 13,
   "metadata": {
    "id": "sGi8jRQHIbC2"
   },
   "outputs": [],
   "source": [
    "def feature_engineering(df):\n",
    "    df['est malade'] = df[viral_columns].sum(axis=1) >= 1\n",
    "    df = df.drop(viral_columns, axis=1)\n",
    "    return df"
   ]
  },
  {
   "cell_type": "code",
   "execution_count": 14,
   "metadata": {
    "id": "LX0iJidYIbC3"
   },
   "outputs": [],
   "source": [
    "def imputation(df):\n",
    "    #df['is na'] = (df['Parainfluenza 3'].isna()) | (df['Leukocytes'].isna())\n",
    "    #df = df.fillna(-999)\n",
    "    df = df.dropna(axis=0)\n",
    "    return  df"
   ]
  },
  {
   "cell_type": "code",
   "execution_count": 15,
   "metadata": {
    "id": "YIG24Y-lIbC6"
   },
   "outputs": [],
   "source": [
    "def preprocessing(df):\n",
    "    \n",
    "    df = encodage(df)\n",
    "    df = feature_engineering(df)\n",
    "    df = imputation(df)\n",
    "    \n",
    "    X = df.drop('SARS-Cov-2 exam result', axis=1)\n",
    "    y = df['SARS-Cov-2 exam result']\n",
    "    \n",
    "    print(y.value_counts())\n",
    "    \n",
    "    return X, y"
   ]
  },
  {
   "cell_type": "code",
   "execution_count": 16,
   "metadata": {
    "colab": {
     "base_uri": "https://localhost:8080/",
     "height": 272
    },
    "id": "_Kjv5JOZIbC8",
    "outputId": "87a4c8be-0daa-42fd-f8d5-a32e53733e2b"
   },
   "outputs": [
    {
     "name": "stdout",
     "output_type": "stream",
     "text": [
      "0    422\n",
      "1     65\n",
      "Name: SARS-Cov-2 exam result, dtype: int64\n"
     ]
    },
    {
     "name": "stderr",
     "output_type": "stream",
     "text": [
      "/opt/anaconda3/lib/python3.9/site-packages/pandas/core/indexing.py:1773: SettingWithCopyWarning: \n",
      "A value is trying to be set on a copy of a slice from a DataFrame.\n",
      "Try using .loc[row_indexer,col_indexer] = value instead\n",
      "\n",
      "See the caveats in the documentation: https://pandas.pydata.org/pandas-docs/stable/user_guide/indexing.html#returning-a-view-versus-a-copy\n",
      "  self._setitem_single_column(ilocs[0], value, pi)\n",
      "/var/folders/kd/pbh9qlls7wgc6h05tr5g1nzh0000gn/T/ipykernel_2093/280593335.py:2: SettingWithCopyWarning: \n",
      "A value is trying to be set on a copy of a slice from a DataFrame.\n",
      "Try using .loc[row_indexer,col_indexer] = value instead\n",
      "\n",
      "See the caveats in the documentation: https://pandas.pydata.org/pandas-docs/stable/user_guide/indexing.html#returning-a-view-versus-a-copy\n",
      "  df['est malade'] = df[viral_columns].sum(axis=1) >= 1\n"
     ]
    }
   ],
   "source": [
    "X_train, y_train = preprocessing(trainset)"
   ]
  },
  {
   "cell_type": "code",
   "execution_count": 17,
   "metadata": {
    "colab": {
     "base_uri": "https://localhost:8080/",
     "height": 272
    },
    "id": "WvUAMK3AIbC-",
    "outputId": "162c750e-39b9-4083-ce2c-38d5e28f0294"
   },
   "outputs": [
    {
     "name": "stdout",
     "output_type": "stream",
     "text": [
      "0    95\n",
      "1    16\n",
      "Name: SARS-Cov-2 exam result, dtype: int64\n"
     ]
    },
    {
     "name": "stderr",
     "output_type": "stream",
     "text": [
      "/var/folders/kd/pbh9qlls7wgc6h05tr5g1nzh0000gn/T/ipykernel_2093/280593335.py:2: SettingWithCopyWarning: \n",
      "A value is trying to be set on a copy of a slice from a DataFrame.\n",
      "Try using .loc[row_indexer,col_indexer] = value instead\n",
      "\n",
      "See the caveats in the documentation: https://pandas.pydata.org/pandas-docs/stable/user_guide/indexing.html#returning-a-view-versus-a-copy\n",
      "  df['est malade'] = df[viral_columns].sum(axis=1) >= 1\n"
     ]
    }
   ],
   "source": [
    "X_test, y_test = preprocessing(testset)"
   ]
  },
  {
   "cell_type": "markdown",
   "metadata": {
    "id": "FwHiz5mzIbDM"
   },
   "source": [
    "## Procédure d'évaluation"
   ]
  },
  {
   "cell_type": "code",
   "execution_count": 18,
   "metadata": {
    "id": "VSs5YAMUIbDM"
   },
   "outputs": [],
   "source": [
    "from sklearn.metrics import f1_score, confusion_matrix, classification_report\n",
    "from sklearn.model_selection import learning_curve"
   ]
  },
  {
   "cell_type": "code",
   "execution_count": 19,
   "metadata": {
    "id": "iwrO3--hIbDN"
   },
   "outputs": [],
   "source": [
    "def evaluation(model):\n",
    "    \n",
    "    model.fit(X_train, y_train)\n",
    "    ypred = model.predict(X_test)\n",
    "    \n",
    "    print(confusion_matrix(y_test, ypred))\n",
    "    print(classification_report(y_test, ypred))\n",
    "    \n",
    "    N, train_score, val_score = learning_curve(model, X_train, y_train,\n",
    "                                              cv=4, scoring='f1',\n",
    "                                               train_sizes=np.linspace(0.1, 1, 10))\n",
    "    \n",
    "    \n",
    "    plt.figure(figsize=(12, 8))\n",
    "    plt.plot(N, train_score.mean(axis=1), label='train score')\n",
    "    plt.plot(N, val_score.mean(axis=1), label='validation score')\n",
    "    plt.legend()\n",
    "    \n",
    "    "
   ]
  },
  {
   "cell_type": "markdown",
   "metadata": {
    "id": "E0nnq_AMIbC_"
   },
   "source": [
    "## Modellisation"
   ]
  },
  {
   "cell_type": "code",
   "execution_count": 20,
   "metadata": {
    "id": "otAEOyA8IbC_"
   },
   "outputs": [],
   "source": [
    "from sklearn.tree import DecisionTreeClassifier\n",
    "from sklearn.ensemble import RandomForestClassifier, AdaBoostClassifier\n",
    "from sklearn.svm import SVC\n",
    "from sklearn.neighbors import KNeighborsClassifier\n",
    "from sklearn.pipeline import make_pipeline\n",
    "from sklearn.feature_selection import SelectKBest, f_classif\n",
    "from sklearn.preprocessing import PolynomialFeatures, StandardScaler"
   ]
  },
  {
   "cell_type": "code",
   "execution_count": 21,
   "metadata": {
    "id": "9qTRLbWAIbDC"
   },
   "outputs": [],
   "source": [
    "preprocessor = make_pipeline(PolynomialFeatures(2, include_bias=False), SelectKBest(f_classif, k=10))"
   ]
  },
  {
   "cell_type": "code",
   "execution_count": 22,
   "metadata": {
    "id": "Lj3tKPn_IbDE"
   },
   "outputs": [],
   "source": [
    "RandomForest = make_pipeline(preprocessor, RandomForestClassifier(random_state=0))\n",
    "AdaBoost = make_pipeline(preprocessor, AdaBoostClassifier(random_state=0))\n",
    "SVM = make_pipeline(preprocessor, StandardScaler(), SVC(random_state=0))\n",
    "KNN = make_pipeline(preprocessor, StandardScaler(), KNeighborsClassifier())"
   ]
  },
  {
   "cell_type": "code",
   "execution_count": 23,
   "metadata": {
    "id": "WcH84TtXIbDF"
   },
   "outputs": [],
   "source": [
    "dict_of_models = {'RandomForest': RandomForest,\n",
    "                  'AdaBoost' : AdaBoost,\n",
    "                  'SVM': SVM,\n",
    "                  'KNN': KNN\n",
    "                 }"
   ]
  },
  {
   "cell_type": "code",
   "execution_count": 24,
   "metadata": {
    "colab": {
     "base_uri": "https://localhost:8080/",
     "height": 1000
    },
    "id": "BjITHlOmIbDH",
    "outputId": "071880f3-e28f-4159-ffd3-7d01232d462c"
   },
   "outputs": [
    {
     "name": "stdout",
     "output_type": "stream",
     "text": [
      "RandomForest\n",
      "[[91  4]\n",
      " [11  5]]\n",
      "              precision    recall  f1-score   support\n",
      "\n",
      "           0       0.89      0.96      0.92        95\n",
      "           1       0.56      0.31      0.40        16\n",
      "\n",
      "    accuracy                           0.86       111\n",
      "   macro avg       0.72      0.64      0.66       111\n",
      "weighted avg       0.84      0.86      0.85       111\n",
      "\n",
      "AdaBoost\n",
      "[[91  4]\n",
      " [ 9  7]]\n",
      "              precision    recall  f1-score   support\n",
      "\n",
      "           0       0.91      0.96      0.93        95\n",
      "           1       0.64      0.44      0.52        16\n",
      "\n",
      "    accuracy                           0.88       111\n",
      "   macro avg       0.77      0.70      0.73       111\n",
      "weighted avg       0.87      0.88      0.87       111\n",
      "\n",
      "SVM\n",
      "[[92  3]\n",
      " [10  6]]\n",
      "              precision    recall  f1-score   support\n",
      "\n",
      "           0       0.90      0.97      0.93        95\n",
      "           1       0.67      0.38      0.48        16\n",
      "\n",
      "    accuracy                           0.88       111\n",
      "   macro avg       0.78      0.67      0.71       111\n",
      "weighted avg       0.87      0.88      0.87       111\n",
      "\n",
      "KNN\n",
      "[[88  7]\n",
      " [ 8  8]]\n",
      "              precision    recall  f1-score   support\n",
      "\n",
      "           0       0.92      0.93      0.92        95\n",
      "           1       0.53      0.50      0.52        16\n",
      "\n",
      "    accuracy                           0.86       111\n",
      "   macro avg       0.72      0.71      0.72       111\n",
      "weighted avg       0.86      0.86      0.86       111\n",
      "\n"
     ]
    },
    {
     "data": {
      "image/png": "[encoded data removed]",
      "text/plain": [
       "<Figure size 864x576 with 1 Axes>"
      ]
     },
     "metadata": {
      "needs_background": "light"
     },
     "output_type": "display_data"
    },
    {
     "data": {
      "image/png": "[encoded data removed]",
      "text/plain": [
       "<Figure size 864x576 with 1 Axes>"
      ]
     },
     "metadata": {
      "needs_background": "light"
     },
     "output_type": "display_data"
    },
    {
     "data": {
      "image/png": "[encoded data removed]",
      "text/plain": [
       "<Figure size 864x576 with 1 Axes>"
      ]
     },
     "metadata": {
      "needs_background": "light"
     },
     "output_type": "display_data"
    },
    {
     "data": {
      "image/png": "[encoded data removed]",
      "text/plain": [
       "<Figure size 864x576 with 1 Axes>"
      ]
     },
     "metadata": {
      "needs_background": "light"
     },
     "output_type": "display_data"
    }
   ],
   "source": [
    "for name, model in dict_of_models.items():\n",
    "    print(name)\n",
    "    evaluation(model)"
   ]
  },
  {
   "cell_type": "markdown",
   "metadata": {
    "id": "8PRMD19oIbDP"
   },
   "source": [
    "## OPTIMISATION"
   ]
  },
  {
   "cell_type": "code",
   "execution_count": 25,
   "metadata": {
    "id": "mvhgAM97IbDP"
   },
   "outputs": [],
   "source": [
    "from sklearn.model_selection import GridSearchCV, RandomizedSearchCV"
   ]
  },
  {
   "cell_type": "code",
   "execution_count": 26,
   "metadata": {
    "colab": {
     "base_uri": "https://localhost:8080/",
     "height": 374
    },
    "id": "mQUwE8t8IbDR",
    "outputId": "47e07fdc-f683-4496-8ea4-daa4e55f803a"
   },
   "outputs": [
    {
     "data": {
      "text/plain": [
       "Pipeline(steps=[('pipeline',\n",
       "                 Pipeline(steps=[('polynomialfeatures',\n",
       "                                  PolynomialFeatures(include_bias=False)),\n",
       "                                 ('selectkbest', SelectKBest())])),\n",
       "                ('standardscaler', StandardScaler()),\n",
       "                ('svc', SVC(random_state=0))])"
      ]
     },
     "execution_count": 26,
     "metadata": {},
     "output_type": "execute_result"
    }
   ],
   "source": [
    "SVM"
   ]
  },
  {
   "cell_type": "code",
   "execution_count": 27,
   "metadata": {
    "id": "_nZM8KN1IbDS"
   },
   "outputs": [],
   "source": [
    "hyper_params = {'svc__gamma':[1e-3, 1e-4, 0.0005],\n",
    "                'svc__C':[1, 10, 100, 1000, 3000], \n",
    "               'pipeline__polynomialfeatures__degree':[2, 3],\n",
    "               'pipeline__selectkbest__k': range(45, 60)}"
   ]
  },
  {
   "cell_type": "code",
   "execution_count": 28,
   "metadata": {
    "colab": {
     "base_uri": "https://localhost:8080/",
     "height": 187
    },
    "id": "fO-Q2IO7IbDU",
    "outputId": "8de8bb42-6f04-4ede-fe8e-9f23a411ce5d"
   },
   "outputs": [
    {
     "name": "stdout",
     "output_type": "stream",
     "text": [
      "{'svc__gamma': 0.0005, 'svc__C': 1000, 'pipeline__selectkbest__k': 52, 'pipeline__polynomialfeatures__degree': 3}\n",
      "              precision    recall  f1-score   support\n",
      "\n",
      "           0       0.92      0.95      0.93        95\n",
      "           1       0.62      0.50      0.55        16\n",
      "\n",
      "    accuracy                           0.88       111\n",
      "   macro avg       0.77      0.72      0.74       111\n",
      "weighted avg       0.87      0.88      0.88       111\n",
      "\n"
     ]
    }
   ],
   "source": [
    "grid = RandomizedSearchCV(SVM, hyper_params, scoring='recall', cv=4,\n",
    "                          n_iter=40)\n",
    "\n",
    "grid.fit(X_train, y_train)\n",
    "\n",
    "print(grid.best_params_)\n",
    "\n",
    "y_pred = grid.predict(X_test)\n",
    "\n",
    "print(classification_report(y_test, y_pred))"
   ]
  },
  {
   "cell_type": "code",
   "execution_count": 29,
   "metadata": {
    "colab": {
     "base_uri": "https://localhost:8080/",
     "height": 670
    },
    "id": "MvfmIptjIbDV",
    "outputId": "4a06e7e9-cff4-435b-aead-93cabfa7a23b"
   },
   "outputs": [
    {
     "name": "stdout",
     "output_type": "stream",
     "text": [
      "[[90  5]\n",
      " [ 8  8]]\n",
      "              precision    recall  f1-score   support\n",
      "\n",
      "           0       0.92      0.95      0.93        95\n",
      "           1       0.62      0.50      0.55        16\n",
      "\n",
      "    accuracy                           0.88       111\n",
      "   macro avg       0.77      0.72      0.74       111\n",
      "weighted avg       0.87      0.88      0.88       111\n",
      "\n"
     ]
    },
    {
     "data": {
      "image/png": "[encoded data removed]",
      "text/plain": [
       "<Figure size 864x576 with 1 Axes>"
      ]
     },
     "metadata": {
      "needs_background": "light"
     },
     "output_type": "display_data"
    }
   ],
   "source": [
    "evaluation(grid.best_estimator_)"
   ]
  },
  {
   "cell_type": "markdown",
   "metadata": {
    "id": "xDDvT5JdIbDX"
   },
   "source": [
    "## Precision Recall Curve"
   ]
  },
  {
   "cell_type": "code",
   "execution_count": 30,
   "metadata": {
    "id": "5kSd_KEPIbDX"
   },
   "outputs": [],
   "source": [
    "from sklearn.metrics import precision_recall_curve"
   ]
  },
  {
   "cell_type": "code",
   "execution_count": 31,
   "metadata": {
    "id": "rLxdwesqIbDY"
   },
   "outputs": [],
   "source": [
    "precision, recall, threshold = precision_recall_curve(y_test, grid.best_estimator_.decision_function(X_test))"
   ]
  },
  {
   "cell_type": "code",
   "execution_count": 32,
   "metadata": {
    "colab": {
     "base_uri": "https://localhost:8080/",
     "height": 282
    },
    "id": "xz21-pRJIbDa",
    "outputId": "6eb105f6-6ceb-4480-b62d-cffc1de72374"
   },
   "outputs": [
    {
     "data": {
      "text/plain": [
       "<matplotlib.legend.Legend at 0x7fb96dd6d070>"
      ]
     },
     "execution_count": 32,
     "metadata": {},
     "output_type": "execute_result"
    },
    {
     "data": {
      "image/png": "[encoded data removed]",
      "text/plain": [
       "<Figure size 432x288 with 1 Axes>"
      ]
     },
     "metadata": {
      "needs_background": "light"
     },
     "output_type": "display_data"
    }
   ],
   "source": [
    "plt.plot(threshold, precision[:-1], label='precision')\n",
    "plt.plot(threshold, recall[:-1], label='recall')\n",
    "plt.legend()"
   ]
  },
  {
   "cell_type": "code",
   "execution_count": 33,
   "metadata": {
    "id": "F2R9W5Z7IbDb"
   },
   "outputs": [],
   "source": [
    "def model_final(model, X, threshold=0):\n",
    "    return model.decision_function(X) > threshold"
   ]
  },
  {
   "cell_type": "code",
   "execution_count": 34,
   "metadata": {
    "id": "0i-3X_r_IbDe"
   },
   "outputs": [],
   "source": [
    "y_pred = model_final(grid.best_estimator_, X_test, threshold=-1)"
   ]
  },
  {
   "cell_type": "code",
   "execution_count": 35,
   "metadata": {
    "id": "UJ4F1aljIbDf"
   },
   "outputs": [],
   "source": [
    "from sklearn.metrics import recall_score"
   ]
  },
  {
   "cell_type": "code",
   "execution_count": 36,
   "metadata": {
    "colab": {
     "base_uri": "https://localhost:8080/",
     "height": 34
    },
    "id": "zkqpdNE7IbDh",
    "outputId": "11b9a86a-7baf-49fb-f59c-b950a2e8c8a0"
   },
   "outputs": [
    {
     "data": {
      "text/plain": [
       "0.5365853658536586"
      ]
     },
     "execution_count": 36,
     "metadata": {},
     "output_type": "execute_result"
    }
   ],
   "source": [
    "f1_score(y_test, y_pred)"
   ]
  },
  {
   "cell_type": "code",
   "execution_count": 37,
   "metadata": {
    "colab": {
     "base_uri": "https://localhost:8080/",
     "height": 34
    },
    "id": "6w3j37sQIbDj",
    "outputId": "04002ffb-19b8-47fb-be75-f26b7300ae9b"
   },
   "outputs": [
    {
     "data": {
      "text/plain": [
       "0.6875"
      ]
     },
     "execution_count": 37,
     "metadata": {},
     "output_type": "execute_result"
    }
   ],
   "source": [
    "recall_score(y_test, y_pred)"
   ]
  }
 ],
 "metadata": {
  "colab": {
   "name": "Untitled5-Copy7.ipynb",
   "provenance": []
  },
  "kernelspec": {
   "display_name": "Python 3 (ipykernel)",
   "language": "python",
   "name": "python3"
  },
  "language_info": {
   "codemirror_mode": {
    "name": "ipython",
    "version": 3
   },
   "file_extension": ".py",
   "mimetype": "text/x-python",
   "name": "python",
   "nbconvert_exporter": "python",
   "pygments_lexer": "ipython3",
   "version": "3.9.7"
  }
 },
 "nbformat": 4,
 "nbformat_minor": 4
}
