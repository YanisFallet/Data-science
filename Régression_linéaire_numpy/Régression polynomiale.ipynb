{
 "cells": [
  {
   "cell_type": "code",
   "execution_count": 1,
   "id": "ec0cb61f-6648-4e21-8f09-6d93b7b8c711",
   "metadata": {},
   "outputs": [],
   "source": [
    "import numpy as np\n",
    "from sklearn.datasets import make_regression\n",
    "import matplotlib.pyplot as plt"
   ]
  },
  {
   "cell_type": "code",
   "execution_count": 2,
   "id": "0fca6b8c-e471-4e1b-b482-821b4aa5ccef",
   "metadata": {},
   "outputs": [
    {
     "data": {
      "text/plain": [
       "<matplotlib.collections.PathCollection at 0x7fefe8223fa0>"
      ]
     },
     "execution_count": 2,
     "metadata": {},
     "output_type": "execute_result"
    },
    {
     "data": {
      "image/png": "[encoded data removed]",
      "text/plain": [
       "<Figure size 432x288 with 1 Axes>"
      ]
     },
     "metadata": {
      "needs_background": "light"
     },
     "output_type": "display_data"
    }
   ],
   "source": [
    "np.random.seed(0) # permet de reproduire l'aléatoire\n",
    "\n",
    "x, y = make_regression(n_samples=100, n_features=1, noise = 10) # creation d'un dataset (x, y) linéaire\n",
    "y = y + abs(y/2) # modifie les valeurs de y pour rendre le dataset non-linéaire\n",
    "\n",
    "plt.scatter(x, y) # afficher les résultats. x en abscisse et y en ordonnée"
   ]
  },
  {
   "cell_type": "code",
   "execution_count": 3,
   "id": "ce7a1b75-e5d1-48de-a93c-a7c6bcfbe163",
   "metadata": {},
   "outputs": [
    {
     "name": "stdout",
     "output_type": "stream",
     "text": [
      "(100, 1)\n",
      "(100,)\n",
      "(100, 1)\n"
     ]
    }
   ],
   "source": [
    "# Verification des dimensions\n",
    "print(x.shape)\n",
    "print(y.shape)\n",
    "\n",
    "# redimensionner y\n",
    "y = y.reshape(y.shape[0], 1)\n",
    "print(y.shape)"
   ]
  },
  {
   "cell_type": "code",
   "execution_count": 4,
   "id": "26952655-9008-4049-8f42-4a93e3ac6599",
   "metadata": {},
   "outputs": [
    {
     "name": "stdout",
     "output_type": "stream",
     "text": [
      "(100, 3)\n",
      "[[ 0.12927848 -0.35955316  1.        ]\n",
      " [ 0.95382381  0.97663904  1.        ]\n",
      " [ 0.1618788   0.40234164  1.        ]\n",
      " [ 0.66120688 -0.81314628  1.        ]\n",
      " [ 0.78816353 -0.88778575  1.        ]\n",
      " [ 0.19701457  0.44386323  1.        ]\n",
      " [ 0.95507205 -0.97727788  1.        ]\n",
      " [ 0.18346819  0.42833187  1.        ]\n",
      " [ 0.04337847  0.20827498  1.        ]\n",
      " [ 0.09706498 -0.31155253  1.        ]]\n"
     ]
    }
   ],
   "source": [
    "# Création de la matrice X, inclut le Biais\n",
    "X = np.hstack((x, np.ones(x.shape)))\n",
    "X = np.hstack((x**2, X)) # ajoute le vecteur x^2 a la gauche de la matrice X\n",
    "\n",
    "print(X.shape)\n",
    "print(X[:10])"
   ]
  },
  {
   "cell_type": "code",
   "execution_count": 5,
   "id": "8d2272e1-f826-4012-877e-0f6758749ddc",
   "metadata": {},
   "outputs": [
    {
     "data": {
      "text/plain": [
       "array([[-0.63743703],\n",
       "       [-0.39727181],\n",
       "       [-0.13288058]])"
      ]
     },
     "execution_count": 5,
     "metadata": {},
     "output_type": "execute_result"
    }
   ],
   "source": [
    "# Initialisation du vecteur theta aléatoire, avec 3 éléments (car X a trois colonnes)\n",
    "theta = np.random.randn(3, 1)\n",
    "theta"
   ]
  },
  {
   "cell_type": "code",
   "execution_count": 6,
   "id": "c94b0de2-dc18-4de2-970c-3843661c46ff",
   "metadata": {},
   "outputs": [],
   "source": [
    "#on implémente un modèle, test avec theta\n",
    "def model(X, theta):\n",
    "    return X.dot(theta)"
   ]
  },
  {
   "cell_type": "code",
   "execution_count": 7,
   "id": "7a990819-cea6-489e-b9c9-25d2ac7b3613",
   "metadata": {},
   "outputs": [
    {
     "data": {
      "text/plain": [
       "<matplotlib.collections.PathCollection at 0x7feffb9b1940>"
      ]
     },
     "execution_count": 7,
     "metadata": {},
     "output_type": "execute_result"
    },
    {
     "data": {
      "image/png": "[encoded data removed]",
      "text/plain": [
       "<Figure size 432x288 with 1 Axes>"
      ]
     },
     "metadata": {
      "needs_background": "light"
     },
     "output_type": "display_data"
    }
   ],
   "source": [
    "plt.scatter(x, y)\n",
    "plt.scatter(x, model(X, theta), c='r')"
   ]
  },
  {
   "cell_type": "code",
   "execution_count": 8,
   "id": "5864434d-b4e7-42e7-b8b6-63c1a2f576f2",
   "metadata": {},
   "outputs": [],
   "source": [
    "#implémentation de l'erreur quadratique moyenne\n",
    "def cost_function(X, y, theta):\n",
    "    m = len(y)\n",
    "    return 1/(2*m) * np.sum((model(X, theta) - y)**2)"
   ]
  },
  {
   "cell_type": "code",
   "execution_count": 9,
   "id": "ec5a57ce-b4d7-4020-97b9-c3f216d673af",
   "metadata": {},
   "outputs": [
    {
     "data": {
      "text/plain": [
       "1328.6654828872622"
      ]
     },
     "execution_count": 9,
     "metadata": {},
     "output_type": "execute_result"
    }
   ],
   "source": [
    "#test\n",
    "cost_function(X, y, theta)"
   ]
  },
  {
   "cell_type": "code",
   "execution_count": 10,
   "id": "2dc01f7d-a14f-4fd3-b2a2-7989c39947bd",
   "metadata": {},
   "outputs": [],
   "source": [
    "#gradients et descente de gradients\n",
    "def grad(X, y, theta):\n",
    "    m = len(y)\n",
    "    return 1/m * X.T.dot(model(X, theta) - y)\n",
    "\n",
    "def gradient_descent(X, y, theta, learning_rate, n_iterations):\n",
    "    \n",
    "    cost_history = np.zeros(n_iterations) # création d'un tableau de stockage pour enregistrer l'évolution du Cout du modele\n",
    "    \n",
    "    for i in range(0, n_iterations):\n",
    "        theta = theta - learning_rate * grad(X, y, theta) # mise a jour du parametre theta (formule du gradient descent)\n",
    "        cost_history[i] = cost_function(X, y, theta) # on enregistre la valeur du Cout au tour i dans cost_history[i]\n",
    "        \n",
    "    return theta, cost_history"
   ]
  },
  {
   "cell_type": "code",
   "execution_count": 11,
   "id": "55778a1a-aa9a-4e75-a4f3-17423c68f9b0",
   "metadata": {},
   "outputs": [],
   "source": [
    "#phase d'entraînement \n",
    "n_iterations = 1000\n",
    "learning_rate = 0.01\n",
    "\n",
    "theta_final, cost_history = gradient_descent(X, y, theta, learning_rate, n_iterations)"
   ]
  },
  {
   "cell_type": "code",
   "execution_count": 12,
   "id": "d04bfc1d-2150-4130-a580-a4ed58e01ffd",
   "metadata": {},
   "outputs": [
    {
     "data": {
      "text/plain": [
       "array([[ 8.60077615],\n",
       "       [42.23116732],\n",
       "       [ 8.18143081]])"
      ]
     },
     "execution_count": 12,
     "metadata": {},
     "output_type": "execute_result"
    }
   ],
   "source": [
    "theta_final # voici les parametres du modele une fois que la machine a été entrainée"
   ]
  },
  {
   "cell_type": "code",
   "execution_count": 13,
   "id": "1715f6fe-2c69-48f7-8b9b-34848f634ef4",
   "metadata": {},
   "outputs": [
    {
     "data": {
      "text/plain": [
       "<matplotlib.collections.PathCollection at 0x7fefd8694a00>"
      ]
     },
     "execution_count": 13,
     "metadata": {},
     "output_type": "execute_result"
    },
    {
     "data": {
      "image/png": "[encoded data removed]",
      "text/plain": [
       "<Figure size 432x288 with 1 Axes>"
      ]
     },
     "metadata": {
      "needs_background": "light"
     },
     "output_type": "display_data"
    }
   ],
   "source": [
    "# création d'un vecteur prédictions qui contient les prédictions de notre modele final\n",
    "predictions = model(X, theta_final)\n",
    "\n",
    "# Affiche les résultats de prédictions (en rouge) par rapport a notre Dataset (en bleu)\n",
    "plt.scatter(x, y)\n",
    "plt.scatter(x, predictions, c='r')"
   ]
  },
  {
   "cell_type": "code",
   "execution_count": 14,
   "id": "d09ba62e-4d8a-4440-83d1-b6ce7ff3a38c",
   "metadata": {},
   "outputs": [
    {
     "data": {
      "text/plain": [
       "[<matplotlib.lines.Line2D at 0x7fefc803d280>]"
      ]
     },
     "execution_count": 14,
     "metadata": {},
     "output_type": "execute_result"
    },
    {
     "data": {
      "image/png": "[encoded data removed]",
      "text/plain": [
       "<Figure size 432x288 with 1 Axes>"
      ]
     },
     "metadata": {
      "needs_background": "light"
     },
     "output_type": "display_data"
    }
   ],
   "source": [
    "#learning curve\n",
    "plt.plot(range(n_iterations), cost_history)"
   ]
  },
  {
   "cell_type": "code",
   "execution_count": 15,
   "id": "87f4d3a5-6e61-47fc-adf0-418858d95391",
   "metadata": {},
   "outputs": [
    {
     "data": {
      "text/plain": [
       "0.9287186469389942"
      ]
     },
     "execution_count": 15,
     "metadata": {},
     "output_type": "execute_result"
    }
   ],
   "source": [
    "#évaluation\n",
    "def coef_determination(y, pred):\n",
    "    u = ((y - pred)**2).sum()\n",
    "    v = ((y - y.mean())**2).sum()\n",
    "    return 1 - u/v\n",
    "coef_determination(y, predictions)"
   ]
  }
 ],
 "metadata": {
  "kernelspec": {
   "display_name": "Python 3 (ipykernel)",
   "language": "python",
   "name": "python3"
  },
  "language_info": {
   "codemirror_mode": {
    "name": "ipython",
    "version": 3
   },
   "file_extension": ".py",
   "mimetype": "text/x-python",
   "name": "python",
   "nbconvert_exporter": "python",
   "pygments_lexer": "ipython3",
   "version": "3.9.7"
  }
 },
 "nbformat": 4,
 "nbformat_minor": 5
}
