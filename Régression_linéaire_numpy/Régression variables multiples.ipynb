{
 "cells": [
  {
   "cell_type": "code",
   "execution_count": 1,
   "id": "c98f64e4-d992-46b4-a4a5-79ed1e30dbf2",
   "metadata": {},
   "outputs": [],
   "source": [
    "import numpy as np\n",
    "import matplotlib.pyplot as plt\n",
    "from mpl_toolkits.mplot3d import Axes3D\n",
    "from sklearn.datasets import make_regression"
   ]
  },
  {
   "cell_type": "code",
   "execution_count": 2,
   "id": "526ec809-32ab-4aa2-95a7-76934b0bce0d",
   "metadata": {
    "tags": []
   },
   "outputs": [
    {
     "data": {
      "text/plain": [
       "<matplotlib.collections.PathCollection at 0x7fd1d00862e0>"
      ]
     },
     "execution_count": 2,
     "metadata": {},
     "output_type": "execute_result"
    },
    {
     "data": {
      "image/png": "[encoded data removed]",
      "text/plain": [
       "<Figure size 432x288 with 1 Axes>"
      ]
     },
     "metadata": {
      "needs_background": "light"
     },
     "output_type": "display_data"
    }
   ],
   "source": [
    "#développement d'un modèle de régression à deux features\n",
    "np.random.seed(0) # permet de reproduire l'aléatoire\n",
    "\n",
    "x, y = make_regression(n_samples=100, n_features=2, noise = 20) # creation d'un dataset (x, y) linéaire\n",
    "plt.scatter(x[:,0], y) # afficher les résultats. x_1 en abscisse et y en ordonnée"
   ]
  },
  {
   "cell_type": "code",
   "execution_count": 3,
   "id": "a961b2a6-d947-4b81-bc58-c9643dddd3a2",
   "metadata": {},
   "outputs": [
    {
     "name": "stdout",
     "output_type": "stream",
     "text": [
      "Using matplotlib backend: MacOSX\n"
     ]
    },
    {
     "data": {
      "text/plain": [
       "Text(0.5, 0, 'y')"
      ]
     },
     "execution_count": 3,
     "metadata": {},
     "output_type": "execute_result"
    }
   ],
   "source": [
    "from mpl_toolkits.mplot3d import Axes3D\n",
    "%matplotlib\n",
    "\n",
    "ax = plt.axes(projection='3d')\n",
    "\n",
    "ax.scatter(x[:,0], x[:,1], y) # affiche en 3D la variable x_1, x_2, et la target y\n",
    "\n",
    "# affiche les noms des axes\n",
    "ax.set_xlabel('x_1')\n",
    "ax.set_ylabel('x_2')\n",
    "ax.set_zlabel('y')"
   ]
  },
  {
   "cell_type": "code",
   "execution_count": 4,
   "id": "3075bef5-8bc7-4818-9c3c-8c7f00e306fd",
   "metadata": {},
   "outputs": [
    {
     "name": "stdout",
     "output_type": "stream",
     "text": [
      "(100, 2)\n",
      "(100,)\n",
      "(100, 1)\n"
     ]
    }
   ],
   "source": [
    "# Verification des dimensions\n",
    "print(x.shape)\n",
    "print(y.shape)\n",
    "\n",
    "# redimensionner y\n",
    "y = y.reshape(y.shape[0], 1)\n",
    "print(y.shape)"
   ]
  },
  {
   "cell_type": "code",
   "execution_count": 5,
   "id": "2af3d3f6-0d16-4c2f-95fd-98705b8df908",
   "metadata": {},
   "outputs": [
    {
     "name": "stdout",
     "output_type": "stream",
     "text": [
      "(100, 3)\n",
      "[[ 1.05445173 -1.07075262  1.        ]\n",
      " [-0.36274117 -0.63432209  1.        ]\n",
      " [-0.85409574  0.3130677   1.        ]\n",
      " [ 1.3263859   0.29823817  1.        ]\n",
      " [-0.4615846  -1.31590741  1.        ]\n",
      " [ 1.94362119 -1.17312341  1.        ]\n",
      " [-1.60205766  0.62523145  1.        ]\n",
      " [-0.40178094  0.17742614  1.        ]\n",
      " [-0.97727788  1.86755799  1.        ]\n",
      " [ 0.37816252  0.15494743  1.        ]]\n"
     ]
    }
   ],
   "source": [
    "# Création de la matrice X, inclut le Biais\n",
    "X = np.hstack((x, np.ones((x.shape[0], 1)))) # ajoute un vecteur Biais de dimension (x.shape[0], 1)\n",
    "\n",
    "print(X.shape)\n",
    "print(X[:10])"
   ]
  },
  {
   "cell_type": "code",
   "execution_count": 6,
   "id": "38aed3ca-fda7-4c62-9789-c88dc943af59",
   "metadata": {},
   "outputs": [
    {
     "data": {
      "text/plain": [
       "array([[-0.82646112],\n",
       "       [ 0.78420863],\n",
       "       [-0.1954172 ]])"
      ]
     },
     "execution_count": 6,
     "metadata": {},
     "output_type": "execute_result"
    }
   ],
   "source": [
    "# Initialisation du vecteur theta aléatoire, avec 3 éléments (car X a trois colonnes)\n",
    "theta = np.random.randn(3, 1)\n",
    "theta"
   ]
  },
  {
   "cell_type": "code",
   "execution_count": 7,
   "id": "8621147c-676c-4d95-8965-6f51bc69c432",
   "metadata": {},
   "outputs": [],
   "source": [
    "#fonction coût,model,gradient, gradient descent\n",
    "def cost_function(X, y, theta):\n",
    "    m = len(y)\n",
    "    return 1/(2*m) * np.sum((model(X, theta) - y)**2)\n",
    "\n",
    "def model(X, theta):\n",
    "    return X.dot(theta)\n",
    "\n",
    "def grad(X, y, theta):\n",
    "    m = len(y)\n",
    "    return 1/m * X.T.dot(model(X, theta) - y)\n",
    "\n",
    "def gradient_descent(X, y, theta, learning_rate, n_iterations):\n",
    "    \n",
    "    cost_history = np.zeros(n_iterations) # création d'un tableau de stockage pour enregistrer l'évolution du Cout du modele\n",
    "    \n",
    "    for i in range(0, n_iterations):\n",
    "        theta = theta - learning_rate * grad(X, y, theta) # mise a jour du parametre theta (formule du gradient descent)\n",
    "        cost_history[i] = cost_function(X, y, theta) # on enregistre la valeur du Cout au tour i dans cost_history[i]\n",
    "        \n",
    "    return theta, cost_history"
   ]
  },
  {
   "cell_type": "code",
   "execution_count": 8,
   "id": "efac8dca-c8e8-4025-9198-586b48300ade",
   "metadata": {},
   "outputs": [
    {
     "data": {
      "text/plain": [
       "array([[28.13116497],\n",
       "       [98.39986854],\n",
       "       [-1.02557637]])"
      ]
     },
     "execution_count": 8,
     "metadata": {},
     "output_type": "execute_result"
    }
   ],
   "source": [
    "#phase d'entraînement\n",
    "n_iterations = 1000\n",
    "learning_rate = 0.01\n",
    "\n",
    "theta_final, cost_history = gradient_descent(X, y, theta, learning_rate, n_iterations)\n",
    "# création d'un vecteur prédictions qui contient les prédictions de notre modele final\n",
    "predictions = model(X, theta_final)\n",
    "\n",
    "theta_final"
   ]
  },
  {
   "cell_type": "code",
   "execution_count": 9,
   "id": "04dbc41d-5c1f-4732-88e5-13031fbbb64f",
   "metadata": {},
   "outputs": [
    {
     "data": {
      "text/plain": [
       "<mpl_toolkits.mplot3d.art3d.Path3DCollection at 0x7fd203db5ac0>"
      ]
     },
     "execution_count": 9,
     "metadata": {},
     "output_type": "execute_result"
    }
   ],
   "source": [
    "#affichage de la prédiction\n",
    "#%matplotlib\n",
    "fig = plt.figure()\n",
    "ax = fig.add_subplot(111, projection='3d')\n",
    "\n",
    "ax.scatter(x[:,0], x[:,1], y)\n",
    "ax.scatter(x[:,0], x[:,1], predictions)"
   ]
  },
  {
   "cell_type": "code",
   "execution_count": 10,
   "id": "1f008114-d6e3-47e4-b028-0ed65262e581",
   "metadata": {
    "tags": []
   },
   "outputs": [
    {
     "data": {
      "text/plain": [
       "0.968056688008027"
      ]
     },
     "execution_count": 10,
     "metadata": {},
     "output_type": "execute_result"
    }
   ],
   "source": [
    "#learning curve et évaluation finale\n",
    "\n",
    "plt.plot(range(n_iterations), cost_history)\n",
    "\n",
    "#coefficient r carré\n",
    "def coef_determination(y, pred):\n",
    "    u = ((y - pred)**2).sum()\n",
    "    v = ((y - y.mean())**2).sum()\n",
    "    return 1 - u/v\n",
    "coef_determination(y, predictions)"
   ]
  }
 ],
 "metadata": {
  "kernelspec": {
   "display_name": "Python 3 (ipykernel)",
   "language": "python",
   "name": "python3"
  },
  "language_info": {
   "codemirror_mode": {
    "name": "ipython",
    "version": 3
   },
   "file_extension": ".py",
   "mimetype": "text/x-python",
   "name": "python",
   "nbconvert_exporter": "python",
   "pygments_lexer": "ipython3",
   "version": "3.9.7"
  }
 },
 "nbformat": 4,
 "nbformat_minor": 5
}
